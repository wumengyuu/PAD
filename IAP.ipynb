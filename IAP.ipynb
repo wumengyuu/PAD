{
 "cells": [
  {
   "cell_type": "code",
   "id": "initial_id",
   "metadata": {
    "collapsed": true,
    "ExecuteTime": {
     "end_time": "2025-04-11T14:10:55.003454Z",
     "start_time": "2025-04-11T14:10:54.966141700Z"
    }
   },
   "source": [
    "import pandas as pd\n",
    "import numpy as np\n",
    "from anomalous_edited import *\n",
    "from function import *\n",
    "\n",
    "df = pd.read_csv('forestfires_with_fwi_bui.csv')\n",
    "\n",
    "#Test to see which one is better\n",
    "#df_normalized = normalization_zscore(df)\n",
    "df_normalized = normalization_range(df)\n",
    "\n",
    "#number of data points\n",
    "nn = df.shape[0]\n",
    "#number of features\n",
    "mm = df.shape[1]\n",
    "\n",
    "print(\"Number of data points: \", nn)\n",
    "print(\"Number of features: \", mm)"
   ],
   "outputs": [
    {
     "name": "stdout",
     "output_type": "stream",
     "text": [
      "Number of data points:  517\n",
      "Number of features:  13\n"
     ]
    }
   ],
   "execution_count": 84
  },
  {
   "cell_type": "code",
   "source": [
    "# Calculate global statistics\n",
    "me = [np.mean(df.iloc[:, j]) for j in range(mm)]\n",
    "mmax = [np.max(df.iloc[:, j]) for j in range(mm)]\n",
    "mmin = [np.min(df.iloc[:, j]) for j in range(mm)]\n",
    "ranges = []\n",
    "normalization = 0  # set to 1 to ignore feature ranges, 0 otherwise\n",
    "for j in range(mm):\n",
    "    if normalization:\n",
    "        ranges.append(1)\n",
    "    else:\n",
    "        rng = mmax[j] - mmin[j]\n",
    "        if rng == 0:\n",
    "            print(\"Variable num {} is constant!\".format(j))\n",
    "            rng = 1\n",
    "        ranges.append(rng)\n",
    "\n",
    "sy = np.divide((df - me), ranges)\n",
    "sY = np.array(sy)\n",
    "d = np.sum(sY * sY)   # total data scatter of normalized data\n",
    "\n",
    "print(\"Mean: \", me)\n",
    "print(\"Max: \", mmax)\n",
    "print(\"Min: \", mmin)\n",
    "print(\"Ranges: \", ranges)"
   ],
   "metadata": {
    "collapsed": false,
    "ExecuteTime": {
     "end_time": "2025-04-11T14:10:57.248849100Z",
     "start_time": "2025-04-11T14:10:57.226894400Z"
    }
   },
   "id": "b7291ca734e0c87b",
   "outputs": [
    {
     "name": "stdout",
     "output_type": "stream",
     "text": [
      "Mean:  [4.669245647969052, 4.299806576402321, 90.64468085106384, 110.87234042553192, 547.9400386847195, 9.021663442940039, 18.88916827852998, 44.28820116054158, 4.017601547388782, 0.021663442940038684, 12.847292069632493, 142.19574468085105, 30.67311411992263]\n",
      "Max:  [9, 9, 96.2, 291.3, 860.6, 56.1, 33.3, 100, 9.4, 6.4, 1090.84, 315.6, 90.4]\n",
      "Min:  [1, 2, 18.7, 1.1, 7.9, 0.0, 2.2, 15, 0.4, 0.0, 0.0, 2.2, 0.0]\n",
      "Ranges:  [8, 7, 77.5, 290.2, 852.7, 56.1, 31.099999999999998, 85, 9.0, 6.4, 1090.84, 313.40000000000003, 90.4]\n"
     ]
    }
   ],
   "execution_count": 85
  },
  {
   "cell_type": "code",
   "source": [
    "x = df.values.astype(np.float32)\n",
    "remains = list(range(nn))\n",
    "threshold = 1\n",
    "ds_threshold = 5 # threshold for cluster contribution\n",
    "numberC = 0\n",
    "ancl = []\n",
    "\n",
    "\n",
    "while len(remains) > 0:\n",
    "\n",
    "    # Step 1: Compute distance to the global mean\n",
    "    distance = dist(x, remains, ranges, me)\n",
    "\n",
    "    # Step 2: Choose the most distant point as centroid\n",
    "    ind = np.argmax(distance)\n",
    "    index = remains[ind]\n",
    "    centroid = x[index, :]\n",
    "\n",
    "    # Step 3: Run the anomalous pattern algorithm\n",
    "    cluster, centroid = anomalousPattern(x, remains, ranges, centroid, me)\n",
    "\n",
    "    if len(cluster) == 0:\n",
    "        break\n",
    "\n",
    "    # Step 4: Compute standardized centroid and contribution\n",
    "    censtand = np.divide((np.asarray(centroid) - me), np.asarray(ranges))\n",
    "    dD = np.sum(censtand * censtand.T * len(cluster) * 100 / d)\n",
    "\n",
    "    # Step 5: Store the result\n",
    "    ancl.append({\n",
    "        'cluster': cluster,\n",
    "        'centroid': censtand,\n",
    "        'dD': dD\n",
    "    })\n",
    "\n",
    "    # Step 6: Update remains\n",
    "    remains = np.setdiff1d(remains, cluster)\n",
    "    numberC += 1\n",
    "\n",
    "print(len(ancl))"
   ],
   "metadata": {
    "collapsed": false,
    "ExecuteTime": {
     "end_time": "2025-04-11T14:11:00.661993300Z",
     "start_time": "2025-04-11T14:11:00.579489700Z"
    }
   },
   "id": "6406d8dac102be0c",
   "outputs": [
    {
     "name": "stdout",
     "output_type": "stream",
     "text": [
      "17\n"
     ]
    }
   ],
   "execution_count": 86
  },
  {
   "cell_type": "code",
   "execution_count": 87,
   "outputs": [
    {
     "name": "stdout",
     "output_type": "stream",
     "text": [
      "14\n",
      "3\n"
     ]
    }
   ],
   "source": [
    "small_clusters = [ac for ac in ancl if ac['dD'] < ds_threshold]\n",
    "print(len(small_clusters))\n",
    "\n",
    "large_clusters = [ac for ac in ancl if ac['dD'] >= ds_threshold]\n",
    "print(len(large_clusters))"
   ],
   "metadata": {
    "collapsed": false,
    "ExecuteTime": {
     "end_time": "2025-04-11T14:11:02.635795Z",
     "start_time": "2025-04-11T14:11:02.618555900Z"
    }
   },
   "id": "4f7cc3e79fe8bc50"
  },
  {
   "cell_type": "code",
   "execution_count": 88,
   "outputs": [],
   "source": [
    "# Step 1: Identify clusters with contributions below the threshold\n",
    "small_clusters = [ac for ac in ancl if ac['dD'] < ds_threshold]\n",
    "\n",
    "# Step 2: Reassign points from small clusters to larger clusters\n",
    "for small_cluster in small_clusters:\n",
    "    cluster_points = small_cluster['cluster']\n",
    "    small_centroid = small_cluster['centroid']\n",
    "    \n",
    "    # Find the clusters with contribution above the threshold\n",
    "    large_clusters = [ac for ac in ancl if ac['dD'] >= ds_threshold]\n",
    "    \n",
    "    # Reassign each point in the small cluster\n",
    "    for point_idx in cluster_points:\n",
    "        # Calculate the distances to centroids of large clusters\n",
    "        distances_to_large_clusters = [np.linalg.norm(x[point_idx] - ac['centroid']) for ac in large_clusters]\n",
    "        \n",
    "        # Find the closest centroid\n",
    "        closest_cluster_idx = np.argmin(distances_to_large_clusters)\n",
    "        closest_cluster = large_clusters[closest_cluster_idx]\n",
    "        \n",
    "        # Add the point to the closest cluster\n",
    "        closest_cluster['cluster'].append(point_idx)\n",
    "        \n",
    "        closest_cluster['centroid'] = np.mean(x[closest_cluster['cluster']], axis=0)  # Update centroid for the whole cluster\n",
    "        # Optionally, recalculate contribution (dD) if needed\n",
    "        censtand = np.divide(np.asarray(closest_cluster['centroid']) - me, ranges)\n",
    "        dD = np.sum(censtand * censtand.T * len(closest_cluster['cluster']) * 100 / d)\n",
    "        closest_cluster['dD'] = dD\n",
    "        \n",
    "\n",
    "    # Remove the points from the small cluster\n",
    "    ancl.remove(small_cluster)\n",
    "    \n",
    "#Standardized the centroids of the large clusters\n",
    "for ac in ancl:\n",
    "    ac['centroid'] = np.divide(ac['centroid'] - me, ranges)"
   ],
   "metadata": {
    "collapsed": false,
    "ExecuteTime": {
     "end_time": "2025-04-11T14:11:05.064051700Z",
     "start_time": "2025-04-11T14:11:05.037554800Z"
    }
   },
   "id": "8844aa1eabb34ac9"
  },
  {
   "cell_type": "markdown",
   "source": [
    "# The new centroids dont seem to have been calculated properly, the values seem to high"
   ],
   "metadata": {
    "collapsed": false
   },
   "id": "aebf46145cec54ed"
  },
  {
   "cell_type": "markdown",
   "source": [
    "# TODO: investigate this ^^^^^^"
   ],
   "metadata": {
    "collapsed": false
   },
   "id": "5e0cdb52c51e538a"
  },
  {
   "cell_type": "markdown",
   "source": [
    "# OK MAYBE ITS CORRECT\n",
    "\n",
    "I dont think its standardized\n",
    "\n",
    "TODO: investigate this ^^^^^^"
   ],
   "metadata": {
    "collapsed": false
   },
   "id": "e2e6ee4992b9cd3f"
  },
  {
   "cell_type": "code",
   "execution_count": 89,
   "outputs": [
    {
     "name": "stdout",
     "output_type": "stream",
     "text": [
      "Cluster 1:\n",
      "  Size: 105\n",
      "  Centroid (standardized): ['0.028', '0.029', '-0.056', '-0.281', '-0.518', '-0.060', '-0.231', '0.022', '0.084', '-0.003', '-0.007', '-0.350', '-0.219']\n",
      "  Cluster contribution (%): 26.287\n",
      "Cluster 2:\n",
      "  Size: 282\n",
      "  Centroid (standardized): ['-0.142', '-0.047', '0.015', '0.114', '0.156', '0.016', '0.064', '0.000', '-0.019', '0.002', '0.002', '0.130', '0.064']\n",
      "  Cluster contribution (%): 10.328\n",
      "Cluster 3:\n",
      "  Size: 130\n",
      "  Centroid (standardized): ['0.285', '0.078', '0.012', '-0.021', '0.080', '0.014', '0.047', '-0.019', '-0.026', '-0.002', '0.001', '-0.000', '0.039']\n",
      "  Cluster contribution (%): 5.49\n"
     ]
    }
   ],
   "source": [
    "# Print out the clusters and their standardized centroids\n",
    "if len(ancl) == 0:\n",
    "    print('No clusters found after reassignment!')\n",
    "else:\n",
    "    for i, ac in enumerate(ancl):\n",
    "        print(f\"Cluster {i + 1}:\")\n",
    "        print(\"  Size:\", len(ac['cluster']))\n",
    "        #print(\"  Centroid (standardized):\", np.round(ac['centroid'], 3))\n",
    "        print(\"  Centroid (standardized):\", [\"{:.3f}\".format(val) for val in np.round(ac['centroid'], 3)])\n",
    "\n",
    "        print(\"  Cluster contribution (%):\", np.round(ac['dD'], 3))"
   ],
   "metadata": {
    "collapsed": false,
    "ExecuteTime": {
     "end_time": "2025-04-11T14:11:08.197530700Z",
     "start_time": "2025-04-11T14:11:08.175050400Z"
    }
   },
   "id": "ea941bc459605a1b"
  },
  {
   "cell_type": "code",
   "execution_count": 90,
   "outputs": [],
   "source": [
    "def compute_belonging_matrix(x, ancl, m=2):\n",
    "    \"\"\"\n",
    "    Compute the fuzzy belonging matrix U for data points x and cluster centroids from ancl.\n",
    "\n",
    "    Parameters:\n",
    "    - x: np.ndarray of shape (n_samples, n_features), the dataset.\n",
    "    - ancl: list of cluster dictionaries with 'centroid' keys.\n",
    "    - m: fuzziness coefficient, typically 2.\n",
    "\n",
    "    Returns:\n",
    "    - U: np.ndarray of shape (n_samples, n_clusters), the belonging matrix.\n",
    "    \"\"\"\n",
    "    n_samples = x.shape[0]\n",
    "    n_clusters = len(ancl)\n",
    "    centroids = np.array([cluster['centroid'] for cluster in ancl])\n",
    "    x_range_normalized = normalization_range(x)\n",
    "\n",
    "    U = np.zeros((n_samples, n_clusters))\n",
    "\n",
    "    for i in range(n_samples):\n",
    "        distances = np.linalg.norm(x_range_normalized[i] - centroids, axis=1) ** 2  # Squared Euclidean distances\n",
    "\n",
    "        # Avoid division by zero\n",
    "        distances = np.maximum(distances, 1e-10)\n",
    "\n",
    "        inv_distances_m = (1 / distances) ** m\n",
    "        denominator = np.sum(inv_distances_m)\n",
    "\n",
    "        for j in range(n_clusters):\n",
    "            U[i, j] = inv_distances_m[j] / denominator\n",
    "\n",
    "    return U\n"
   ],
   "metadata": {
    "collapsed": false,
    "ExecuteTime": {
     "end_time": "2025-04-11T14:11:12.651928100Z",
     "start_time": "2025-04-11T14:11:12.628330300Z"
    }
   },
   "id": "983a40c1ace124ed"
  },
  {
   "cell_type": "code",
   "execution_count": 91,
   "outputs": [
    {
     "name": "stdout",
     "output_type": "stream",
     "text": [
      "Dimensions of the belonging matrix U: (3, 517)\n"
     ]
    }
   ],
   "source": [
    "U = compute_belonging_matrix(x, ancl, m=2)\n",
    "U_transpose = U.T\n",
    "\n",
    "#what are the dimensions of the belonging matrix\n",
    "print(\"Dimensions of the belonging matrix U:\", U_transpose.shape)\n"
   ],
   "metadata": {
    "collapsed": false,
    "ExecuteTime": {
     "end_time": "2025-04-11T14:11:16.989102900Z",
     "start_time": "2025-04-11T14:11:16.947863800Z"
    }
   },
   "id": "95a5964412efa232"
  },
  {
   "cell_type": "code",
   "execution_count": 92,
   "outputs": [
    {
     "name": "stdout",
     "output_type": "stream",
     "text": [
      "First column:\n",
      "[0.04063269 0.63739932 0.32196799]\n"
     ]
    }
   ],
   "source": [
    "\n",
    "# Print the first column entirely (belonging values of all data points to the first cluster)\n",
    "print(\"First column:\")\n",
    "print(U_transpose[:, 0])  # Access the first column (index 0) for all rows (clusters)\n"
   ],
   "metadata": {
    "collapsed": false,
    "ExecuteTime": {
     "end_time": "2025-04-11T14:11:20.242389300Z",
     "start_time": "2025-04-11T14:11:20.226923300Z"
    }
   },
   "id": "2013b1b1ac12a6f8"
  },
  {
   "cell_type": "markdown",
   "source": [
    "# 3. d)"
   ],
   "metadata": {
    "collapsed": false
   },
   "id": "49d952c3665d740d"
  },
  {
   "cell_type": "code",
   "execution_count": 100,
   "outputs": [
    {
     "data": {
      "text/plain": "<Figure size 800x600 with 1 Axes>",
      "image/png": "[encoded data removed]"
     },
     "metadata": {},
     "output_type": "display_data"
    }
   ],
   "source": [
    "import matplotlib.pyplot as plt\n",
    "from function import *\n",
    "import skfuzzy as fuzz\n",
    "\n",
    "def FCM_cost_function(X, c, m, error, maxiter):\n",
    "    '''\n",
    "    Args:\n",
    "    X : data, size (p, n), n samples of p features.\n",
    "    c : number of clusters.\n",
    "    m : Weighting exponent (Fuzziness degree).\n",
    "    error : Stopping criterion; stop early if the norm of (u[p] - u[p-1]) < error.\n",
    "    maxiter : Maximum number of iterations allowed.\n",
    "    jm : Objective function.\n",
    "    '''\n",
    "    cntr, u, u0, d, jm, p, fpc = fuzz.cluster.cmeans(\n",
    "        df_normalized.T, c, m, error, max_iterations,metric='euclidean', init=U_transpose)\n",
    "    return jm\n",
    "\n",
    "# Data & Parameters\n",
    "c_min = 2\n",
    "c_max = 5\n",
    "c=3\n",
    "m = 2.0\n",
    "error = 0.005\n",
    "max_iterations = 100 #teacher said its too high\n",
    "\n",
    "# Plotting cost functions for different c\n",
    "plt.figure(figsize=(8, 6))\n",
    "jm = FCM_cost_function(df_normalized, c, m, error, max_iterations)\n",
    "plt.plot(jm, label=f'c={c}')  # Plot cost function with label c\n",
    "\n",
    "#for c in range(c_min, c_max + 1):\n",
    " #   jm = FCM_cost_function(df_normalized, c, m, error, max_iterations)\n",
    "  #  plt.plot(jm, label=f'c={c}')  # Plot cost function with label c\n",
    "\n",
    "plt.xlabel('Iteration')\n",
    "plt.ylabel('Objective Function')\n",
    "\n",
    "#plt.title('FCM Objective Function for Different Number of Clusters')\n",
    "plt.title('FCM Objective Function for 3 clusters')\n",
    "\n",
    "plt.legend(loc='best')  # Add legend to differentiate each line\n",
    "plt.grid(True)\n",
    "plt.show()"
   ],
   "metadata": {
    "collapsed": false,
    "ExecuteTime": {
     "end_time": "2025-04-11T14:27:43.473691800Z",
     "start_time": "2025-04-11T14:27:43.013803700Z"
    }
   },
   "id": "8abe77f81f14e52a"
  },
  {
   "cell_type": "code",
   "execution_count": null,
   "outputs": [],
   "source": [],
   "metadata": {
    "collapsed": false
   },
   "id": "2548aabaf4f7365d"
  }
 ],
 "metadata": {
  "kernelspec": {
   "display_name": "Python 3",
   "language": "python",
   "name": "python3"
  },
  "language_info": {
   "codemirror_mode": {
    "name": "ipython",
    "version": 2
   },
   "file_extension": ".py",
   "mimetype": "text/x-python",
   "name": "python",
   "nbconvert_exporter": "python",
   "pygments_lexer": "ipython2",
   "version": "2.7.6"
  }
 },
 "nbformat": 4,
 "nbformat_minor": 5
}
